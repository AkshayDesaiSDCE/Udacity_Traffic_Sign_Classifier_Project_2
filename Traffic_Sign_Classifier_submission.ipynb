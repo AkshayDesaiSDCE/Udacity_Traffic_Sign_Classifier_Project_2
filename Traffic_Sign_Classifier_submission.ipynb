{
 "cells": [
  {
   "cell_type": "markdown",
   "metadata": {},
   "source": [
    "# Self-Driving Car Engineer Nanodegree\n",
    "\n",
    "## Deep Learning\n",
    "\n",
    "## Project: Build a Traffic Sign Recognition Classifier\n",
    "\n",
    "In this notebook, a template is provided for you to implement your functionality in stages, which is required to successfully complete this project. If additional code is required that cannot be included in the notebook, be sure that the Python code is successfully imported and included in your submission if necessary. \n",
    "\n",
    "> **Note**: Once you have completed all of the code implementations, you need to finalize your work by exporting the iPython Notebook as an HTML document. Before exporting the notebook to html, all of the code cells need to have been run so that reviewers can see the final implementation and output. You can then export the notebook by using the menu above and navigating to  \\n\",\n",
    "    \"**File -> Download as -> HTML (.html)**. Include the finished document along with this notebook as your submission. \n",
    "\n",
    "In addition to implementing code, there is a writeup to complete. The writeup should be completed in a separate file, which can be either a markdown file or a pdf document. There is a [write up template](https://github.com/udacity/CarND-Traffic-Sign-Classifier-Project/blob/master/writeup_template.md) that can be used to guide the writing process. Completing the code template and writeup template will cover all of the [rubric points](https://review.udacity.com/#!/rubrics/481/view) for this project.\n",
    "\n",
    "The [rubric](https://review.udacity.com/#!/rubrics/481/view) contains \"Stand Out Suggestions\" for enhancing the project beyond the minimum requirements. The stand out suggestions are optional. If you decide to pursue the \"stand out suggestions\", you can include the code in this Ipython notebook and also discuss the results in the writeup file.\n",
    "\n",
    "\n",
    ">**Note:** Code and Markdown cells can be executed using the **Shift + Enter** keyboard shortcut. In addition, Markdown cells can be edited by typically double-clicking the cell to enter edit mode."
   ]
  },
  {
   "cell_type": "markdown",
   "metadata": {},
   "source": [
    "---\n",
    "## Step 0: Load The Data"
   ]
  },
  {
   "cell_type": "code",
   "execution_count": 1,
   "metadata": {},
   "outputs": [],
   "source": [
    "# Load pickled data\n",
    "import pickle\n",
    "import os\n",
    "import sys\n",
    "#os.environ[\"CUDA_DEVICE_ORDER\"] = \"PCI_BUS_ID\"\n",
    "#os.environ[\"CUDA_VISIBLE_DEVICES\"] = \"0\"\n",
    "\n",
    "# TODO: Fill this in based on where you saved the training and testing data\n",
    "\n",
    "import numpy as np\n",
    "\n",
    "training_file = 'train.p'\n",
    "validation_file= 'valid.p'\n",
    "testing_file = 'test.p'\n",
    "\n",
    "with open(training_file, mode='rb') as f:\n",
    "    train = pickle.load(f)\n",
    "with open(validation_file, mode='rb') as f:\n",
    "    valid = pickle.load(f)\n",
    "with open(testing_file, mode='rb') as f:\n",
    "    test = pickle.load(f)\n",
    "\n",
    "    \n",
    "X_train, y_train = train['features'], train['labels']\n",
    "X_valid, y_valid = valid['features'], valid['labels']\n",
    "X_test, y_test = test['features'], test['labels']\n",
    "#X_train = np.array(X_train)"
   ]
  },
  {
   "cell_type": "markdown",
   "metadata": {},
   "source": [
    "---\n",
    "\n",
    "## Step 1: Dataset Summary & Exploration\n",
    "\n",
    "The pickled data is a dictionary with 4 key/value pairs:\n",
    "\n",
    "- `'features'` is a 4D array containing raw pixel data of the traffic sign images, (num examples, width, height, channels).\n",
    "- `'labels'` is a 1D array containing the label/class id of the traffic sign. The file `signnames.csv` contains id -> name mappings for each id.\n",
    "- `'sizes'` is a list containing tuples, (width, height) representing the original width and height the image.\n",
    "- `'coords'` is a list containing tuples, (x1, y1, x2, y2) representing coordinates of a bounding box around the sign in the image. **THESE COORDINATES ASSUME THE ORIGINAL IMAGE. THE PICKLED DATA CONTAINS RESIZED VERSIONS (32 by 32) OF THESE IMAGES**\n",
    "\n",
    "Complete the basic data summary below. Use python, numpy and/or pandas methods to calculate the data summary rather than hard coding the results. For example, the [pandas shape method](http://pandas.pydata.org/pandas-docs/stable/generated/pandas.DataFrame.shape.html) might be useful for calculating some of the summary results. "
   ]
  },
  {
   "cell_type": "markdown",
   "metadata": {},
   "source": [
    "### Provide a Basic Summary of the Data Set Using Python, Numpy and/or Pandas"
   ]
  },
  {
   "cell_type": "code",
   "execution_count": 2,
   "metadata": {},
   "outputs": [
    {
     "name": "stdout",
     "output_type": "stream",
     "text": [
      "Number of training examples = 34799\n",
      "Number of testing examples = 12630\n",
      "Number of validation examples = 4410\n",
      "Image data shape = [28 30]\n",
      "Number of classes = 43\n"
     ]
    }
   ],
   "source": [
    "### Replace each question mark with the appropriate value. \n",
    "### Use python, pandas or numpy methods rather than hard coding the results\n",
    "\n",
    "import matplotlib.pyplot as plt\n",
    "import matplotlib.mlab as mlab\n",
    "import random\n",
    "# TODO: Number of training examples\n",
    "n_train = len(train['features'])\n",
    "\n",
    "# TODO: Number of validation examples\n",
    "n_validation = len(valid['features'])\n",
    "\n",
    "# TODO: Number of testing examples.\n",
    "n_test = len(test['features'])\n",
    "\n",
    "# TODO: What's the shape of an traffic sign image?\n",
    "image_shape = train['sizes'][random.randint(0,len(train['features']))]\n",
    "\n",
    "# TODO: How many unique classes/labels there are in the dataset.\n",
    "n_classes = len(np.unique(train['labels']))\n",
    "    \n",
    "print(\"Number of training examples =\", n_train)\n",
    "print(\"Number of testing examples =\", n_test)\n",
    "print(\"Number of validation examples =\", n_validation)\n",
    "print(\"Image data shape =\", image_shape)\n",
    "print(\"Number of classes =\", n_classes)\n",
    "\n",
    "\n",
    "#num_bins = n_classes \n",
    "#n, bins, patches = plt.hist(x, num_bins, facecolor='blue', alpha=0.5)\n",
    "#plt.show()"
   ]
  },
  {
   "cell_type": "markdown",
   "metadata": {},
   "source": [
    "### Include an exploratory visualization of the dataset"
   ]
  },
  {
   "cell_type": "markdown",
   "metadata": {},
   "source": [
    "Visualize the German Traffic Signs Dataset using the pickled file(s). This is open ended, suggestions include: plotting traffic sign images, plotting the count of each sign, etc. \n",
    "\n",
    "The [Matplotlib](http://matplotlib.org/) [examples](http://matplotlib.org/examples/index.html) and [gallery](http://matplotlib.org/gallery.html) pages are a great resource for doing visualizations in Python.\n",
    "\n",
    "**NOTE:** It's recommended you start with something simple first. If you wish to do more, come back to it after you've completed the rest of the sections. It can be interesting to look at the distribution of classes in the training, validation and test set. Is the distribution the same? Are there more examples of some classes than others?"
   ]
  },
  {
   "cell_type": "markdown",
   "metadata": {},
   "source": [
    "#### Generating a random image and label"
   ]
  },
  {
   "cell_type": "code",
   "execution_count": 3,
   "metadata": {},
   "outputs": [
    {
     "name": "stdout",
     "output_type": "stream",
     "text": [
      "size = [32 32]\n",
      "y_label = 10\n"
     ]
    },
    {
     "data": {
      "image/png": "[encoded data removed]",
      "text/plain": [
       "<matplotlib.figure.Figure at 0x265e23a72e8>"
      ]
     },
     "metadata": {},
     "output_type": "display_data"
    }
   ],
   "source": [
    "# Visualizing a random image from the training dataset and the corresponding label \n",
    "\n",
    "import random\n",
    "import matplotlib.pyplot as plt\n",
    "# Visualizations will be shown in the notebook.\n",
    "%matplotlib inline\n",
    "\n",
    "index = random.randint(0,n_train)\n",
    "image = X_train[index]\n",
    "\n",
    "plt.figure(figsize = (2,2))\n",
    "plt.imshow(image)\n",
    "print('size =',train['sizes'][index])\n",
    "print('y_label =',y_train[index])\n"
   ]
  },
  {
   "cell_type": "markdown",
   "metadata": {},
   "source": [
    "#### Histogram showing the number of images per class of traffic sign "
   ]
  },
  {
   "cell_type": "code",
   "execution_count": 4,
   "metadata": {},
   "outputs": [
    {
     "data": {
      "image/png": "[encoded data removed]",
      "text/plain": [
       "<matplotlib.figure.Figure at 0x265d7672cc0>"
      ]
     },
     "metadata": {},
     "output_type": "display_data"
    }
   ],
   "source": [
    "j = 0\n",
    "t = []\n",
    "for i in range(43):\n",
    "    \n",
    "    for k in train['labels']:\n",
    "        if i == k:\n",
    "            j = j+1\n",
    "    t.append([i,j])\n",
    "    j = 0\n",
    "#print(t)\n",
    "a = []\n",
    "b = []\n",
    "for i in range(len(t)):\n",
    "    a.append(t[i][0])\n",
    "    b.append(t[i][1])\n",
    "plt.bar(a,b)\n",
    "plt.axis([0,43,0,2200])\n",
    "plt.title('Number of images in various classes')\n",
    "plt.show()\n"
   ]
  },
  {
   "cell_type": "markdown",
   "metadata": {},
   "source": [
    "----\n",
    "\n",
    "## Step 2: Design and Test a Model Architecture\n",
    "\n",
    "Design and implement a deep learning model that learns to recognize traffic signs. Train and test your model on the [German Traffic Sign Dataset](http://benchmark.ini.rub.de/?section=gtsrb&subsection=dataset).\n",
    "\n",
    "The LeNet-5 implementation shown in the [classroom](https://classroom.udacity.com/nanodegrees/nd013/parts/fbf77062-5703-404e-b60c-95b78b2f3f9e/modules/6df7ae49-c61c-4bb2-a23e-6527e69209ec/lessons/601ae704-1035-4287-8b11-e2c2716217ad/concepts/d4aca031-508f-4e0b-b493-e7b706120f81) at the end of the CNN lesson is a solid starting point. You'll have to change the number of classes and possibly the preprocessing, but aside from that it's plug and play! \n",
    "\n",
    "With the LeNet-5 solution from the lecture, you should expect a validation set accuracy of about 0.89. To meet specifications, the validation set accuracy will need to be at least 0.93. It is possible to get an even higher accuracy, but 0.93 is the minimum for a successful project submission. \n",
    "\n",
    "There are various aspects to consider when thinking about this problem:\n",
    "\n",
    "- Neural network architecture (is the network over or underfitting?)\n",
    "- Play around preprocessing techniques (normalization, rgb to grayscale, etc)\n",
    "- Number of examples per label (some have more than others).\n",
    "- Generate fake data.\n",
    "\n",
    "Here is an example of a [published baseline model on this problem](http://yann.lecun.com/exdb/publis/pdf/sermanet-ijcnn-11.pdf). It's not required to be familiar with the approach used in the paper but, it's good practice to try to read papers like these."
   ]
  },
  {
   "cell_type": "markdown",
   "metadata": {},
   "source": [
    "### Pre-process the Data Set (normalization, grayscale, etc.)"
   ]
  },
  {
   "cell_type": "markdown",
   "metadata": {},
   "source": [
    "Minimally, the image data should be normalized so that the data has mean zero and equal variance. For image data, `(pixel - 128)/ 128` is a quick way to approximately normalize the data and can be used in this project. \n",
    "\n",
    "Other pre-processing steps are optional. You can try different techniques to see if it improves performance. \n",
    "\n",
    "Use the code cell (or multiple code cells, if necessary) to implement the first step of your project."
   ]
  },
  {
   "cell_type": "markdown",
   "metadata": {},
   "source": [
    "### Preprocessing Method - 3"
   ]
  },
  {
   "cell_type": "markdown",
   "metadata": {},
   "source": [
    "### Gray scale conversion"
   ]
  },
  {
   "cell_type": "code",
   "execution_count": 6,
   "metadata": {},
   "outputs": [
    {
     "name": "stdout",
     "output_type": "stream",
     "text": [
      "(34799, 32, 32, 3)\n",
      "(34799, 32, 32, 1)\n",
      "(12630, 32, 32, 1)\n"
     ]
    },
    {
     "data": {
      "text/plain": [
       "<matplotlib.image.AxesImage at 0x265e5f6fe48>"
      ]
     },
     "execution_count": 6,
     "metadata": {},
     "output_type": "execute_result"
    },
    {
     "data": {
      "image/png": "[encoded data removed]",
      "text/plain": [
       "<matplotlib.figure.Figure at 0x265dc067e10>"
      ]
     },
     "metadata": {},
     "output_type": "display_data"
    }
   ],
   "source": [
    "X_train_rgb = X_train\n",
    "X_train_gry = np.sum(X_train/3, axis = 3, keepdims = True)\n",
    "\n",
    "X_valid_rgb = X_valid\n",
    "X_valid_gry = np.sum(X_valid/3, axis = 3, keepdims = True)\n",
    "\n",
    "X_test_rgb = X_test\n",
    "X_test_gry = np.sum(X_test/3, axis = 3, keepdims = True)\n",
    "\n",
    "print(X_train_rgb.shape)\n",
    "print(X_train_gry.shape)\n",
    "print(X_test_gry.shape)\n",
    "\n",
    "plt.imshow(X_train_gry[1,:,:,0], cmap = 'gray')"
   ]
  },
  {
   "cell_type": "markdown",
   "metadata": {},
   "source": [
    "### Conversion to numpy array and visualization"
   ]
  },
  {
   "cell_type": "code",
   "execution_count": 7,
   "metadata": {},
   "outputs": [
    {
     "name": "stdout",
     "output_type": "stream",
     "text": [
      "82.67758903699634\n",
      "83.55642737563775\n",
      "82.14846036120173\n"
     ]
    },
    {
     "data": {
      "image/png": "[encoded data removed]",
      "text/plain": [
       "<matplotlib.figure.Figure at 0x265e5f04a58>"
      ]
     },
     "metadata": {},
     "output_type": "display_data"
    }
   ],
   "source": [
    "x_train = X_train_gry\n",
    "x_valid = X_valid_gry \n",
    "x_test = X_test_gry\n",
    "\n",
    "x_train = np.array(x_train)\n",
    "x_valid = np.array(x_valid)\n",
    "x_test = np.array(x_test)\n",
    "\n",
    "g = random.randint(0,len(x_train))\n",
    "\n",
    "plt.imshow(x_train[g,:,:,0], cmap = 'gray')\n",
    "\n",
    "print(np.mean(x_train))\n",
    "print(np.mean(x_valid))\n",
    "print(np.mean(x_test))"
   ]
  },
  {
   "cell_type": "markdown",
   "metadata": {},
   "source": [
    "### Normalization of Gray scale image "
   ]
  },
  {
   "cell_type": "code",
   "execution_count": 8,
   "metadata": {},
   "outputs": [
    {
     "name": "stdout",
     "output_type": "stream",
     "text": [
      "-0.35408133564846583\n",
      "-0.3582151534281105\n",
      "-0.3472154111278294\n"
     ]
    }
   ],
   "source": [
    "# Normalize Image \n",
    "X_train_norm = (x_train - 128.0)/128.0 \n",
    "X_valid_norm = (x_valid - 128.0)/128.0\n",
    "X_test_norm = (x_test - 128.0)/128.0\n",
    "\n",
    "print(np.mean(X_train_norm))\n",
    "print(np.mean(X_test_norm))\n",
    "print(np.mean(X_valid_norm))"
   ]
  },
  {
   "cell_type": "markdown",
   "metadata": {},
   "source": [
    "### Shuffle the data "
   ]
  },
  {
   "cell_type": "code",
   "execution_count": 9,
   "metadata": {},
   "outputs": [],
   "source": [
    "#Shuffle Data\n",
    "from sklearn.utils import shuffle\n",
    "\n",
    "x_train, y_train = shuffle(X_train_norm, y_train)\n",
    "\n",
    "x_valid, y_valid = shuffle(X_valid_norm, y_valid)\n",
    "\n",
    "X_test, y_test = shuffle(X_test_norm, y_test)"
   ]
  },
  {
   "cell_type": "markdown",
   "metadata": {},
   "source": [
    "### Model Architecture"
   ]
  },
  {
   "cell_type": "markdown",
   "metadata": {},
   "source": [
    "### Extension of the MNIST LeNet architecture: \n",
    "\n",
    "A similar architecture to the LeNet is used with more depth in layers to extract sufficient features from the network. \n",
    "\n",
    "The following are the layers in the network: \n",
    "1. The Input image of dimensions 32x32x1 is flattened and fed to the network as a 784 neuron layer\n",
    "2. The image is fed to convolutional layer which outputs a feature map of depth 15 by using a 5x5 filter \n",
    "3. The output is activated using the relu activation function \n",
    "4. The output is max pooled with a stride of 2 (width and height) to 14x14x15\n",
    "5. Similar steps (from 2-5) are repeated to obtain 28 and 700 feature maps in the consecutive convolutional-max_pool layers\n",
    "6. This 700 output is flattened and fed to 3 fully-connected layers of 200, 120 and 84 neurons respectively "
   ]
  },
  {
   "cell_type": "code",
   "execution_count": 2,
   "metadata": {},
   "outputs": [],
   "source": [
    "from tensorflow.contrib.layers import flatten\n",
    "\n",
    "import tensorflow as tf \n",
    "\n",
    "def LeNet(x):    \n",
    "    # Arguments used for tf.truncated_normal, randomly defines variables for the weights and biases for each layer\n",
    "    mu = 0\n",
    "    sigma = 0.1\n",
    "    \n",
    "    # Layer 1: Convolutional. Input = 32x32x1. Output = 28x28x15.\n",
    "    conv1_W = tf.Variable(tf.truncated_normal(shape=(5, 5, 1, 15), mean = mu, stddev = sigma))\n",
    "    conv1_b = tf.Variable(tf.zeros(15))\n",
    "    conv1   = tf.nn.conv2d(x, conv1_W, strides=[1, 1, 1, 1], padding='VALID') + conv1_b\n",
    "\n",
    "    # Activation.\n",
    "    conv1 = tf.nn.relu(conv1, name = 'convolution1')\n",
    "\n",
    "    # Pooling. Input = 28x28x15. Output = 14x14x15.\n",
    "    conv1 = tf.nn.max_pool(conv1, ksize=[1, 2, 2, 1], strides=[1, 2, 2, 1], padding='VALID', name = 'convolution2')\n",
    "\n",
    "    # Layer 2: Convolutional. Input = 14x14x28. Output = 10x10x28.\n",
    "    conv2_W = tf.Variable(tf.truncated_normal(shape=(5, 5, 15, 28), mean = mu, stddev = sigma))\n",
    "    conv2_b = tf.Variable(tf.zeros(28))\n",
    "    conv2   = tf.nn.conv2d(conv1, conv2_W, strides=[1, 1, 1, 1], padding='VALID') + conv2_b\n",
    "    \n",
    "    # Activation.\n",
    "    conv2 = tf.nn.relu(conv2, name= 'convolution3')\n",
    "\n",
    "    # Pooling. Input = 10x10x28. Output = 5x5x28.\n",
    "    conv2 = tf.nn.max_pool(conv2, ksize=[1, 2, 2, 1], strides=[1, 2, 2, 1], padding='VALID')\n",
    "\n",
    "    # Layer 3: Third Convolutional Layer IP = 5x5x28, OP = 1x1x700\n",
    "    conv3_W = tf.Variable(tf.truncated_normal(shape =(5,5,28,700), mean = mu, stddev = sigma))\n",
    "    conv3_b = tf.Variable(tf.zeros(700))\n",
    "    conv3 = tf.nn.conv2d(conv2, conv3_W, strides=[1, 1, 1, 1], padding='VALID') + conv3_b\n",
    "    \n",
    "    conv3 = tf.nn.relu(conv3, name = 'convolution4')\n",
    "    \n",
    "    # Flatten the ouput layer 3. Input = 1x1x700. Output = 700 long tensor.\n",
    "    fc0 = flatten(conv3)\n",
    "    \n",
    "    fc0 = tf.nn.dropout(fc0, 1.0)\n",
    "    \n",
    "    # Layer 1: Fully Connected. Input = 700. Output = 200.\n",
    "    fc1_W = tf.Variable(tf.truncated_normal(shape=(700, 200), mean = mu, stddev = sigma))\n",
    "    fc1_b = tf.Variable(tf.zeros(200))\n",
    "    fc1   = tf.matmul(fc0, fc1_W) + fc1_b\n",
    "    \n",
    "    # Activation.\n",
    "    fc1    = tf.nn.sigmoid(fc1)\n",
    "\n",
    "    # Layer 2: Fully Connected. Input = 200. Output = 120.\n",
    "    fc2_W  = tf.Variable(tf.truncated_normal(shape=(200, 120), mean = mu, stddev = sigma))\n",
    "    fc2_b  = tf.Variable(tf.zeros(120))\n",
    "    fc2    = tf.matmul(fc1, fc2_W) + fc2_b\n",
    "    \n",
    "    # Activation.\n",
    "    fc2    = tf.nn.sigmoid(fc2)\n",
    "\n",
    "    # Layer 3: Fully Connected. Input = 120. Output = 84.\n",
    "    fc3_W  = tf.Variable(tf.truncated_normal(shape=(120, 84), mean = mu, stddev = sigma))\n",
    "    fc3_b  = tf.Variable(tf.zeros(84))\n",
    "    fc3 = tf.matmul(fc2, fc3_W) + fc3_b\n",
    "    \n",
    "    # Activation\n",
    "    fc3 = tf.nn.sigmoid(fc3)\n",
    "\n",
    "    # Layer 4: Fully Connected. Input = 84. Output = 43.\n",
    "    fc4_W  = tf.Variable(tf.truncated_normal(shape=(84, 43), mean = mu, stddev = sigma))\n",
    "    fc4_b  = tf.Variable(tf.zeros(43))\n",
    "    logits = tf.matmul(fc3, fc4_W) + fc4_b\n",
    "    \n",
    "    return logits\n"
   ]
  },
  {
   "cell_type": "markdown",
   "metadata": {},
   "source": [
    "### Train, Validate and Test the Model"
   ]
  },
  {
   "cell_type": "markdown",
   "metadata": {},
   "source": [
    "A validation set can be used to assess how well the model is performing. A low accuracy on the training and validation\n",
    "sets imply underfitting. A high accuracy on the training set but low accuracy on the validation set implies overfitting."
   ]
  },
  {
   "cell_type": "code",
   "execution_count": 13,
   "metadata": {},
   "outputs": [
    {
     "name": "stdout",
     "output_type": "stream",
     "text": [
      "WARNING:tensorflow:From <ipython-input-13-67e0e9c5e093>:19: softmax_cross_entropy_with_logits (from tensorflow.python.ops.nn_ops) is deprecated and will be removed in a future version.\n",
      "Instructions for updating:\n",
      "\n",
      "Future major versions of TensorFlow will allow gradients to flow\n",
      "into the labels input on backprop by default.\n",
      "\n",
      "See @{tf.nn.softmax_cross_entropy_with_logits_v2}.\n",
      "\n",
      "WARNING:tensorflow:From <ipython-input-13-67e0e9c5e093>:34: calling softmax (from tensorflow.python.ops.nn_ops) with dim is deprecated and will be removed in a future version.\n",
      "Instructions for updating:\n",
      "dim is deprecated, use axis instead\n"
     ]
    }
   ],
   "source": [
    "### Train your model here.\n",
    "### Calculate and report the accuracy on the training and validation set.\n",
    "### Once a final model architecture is selected, \n",
    "### the accuracy on the test set should be calculated and reported as well.\n",
    "### Feel free to use as many code cells as needed.\n",
    "import tensorflow as tf\n",
    "x = tf.placeholder(tf.float32, (None, 32,32, 1))\n",
    "y = tf.placeholder(tf.int32, (None))\n",
    "\n",
    "# One_hot encodes the given number into a vector of 1s and 0s of a given length \n",
    "one_hot_y = tf.one_hot(y, 43)\n",
    "\n",
    "rate = 0.0007\n",
    "\n",
    "# Output \n",
    "logits = LeNet(x)\n",
    "\n",
    "# Cross entropy of the softmax ouput is taken - The softmax is taken to convert the output of the network to probabilities and the cross entropy gives the cost \n",
    "cross_entropy = tf.nn.softmax_cross_entropy_with_logits(labels=one_hot_y, logits=logits)\n",
    "\n",
    "# Reduce mean - The average of the given vector is taken \n",
    "loss_operation = tf.reduce_mean(cross_entropy)\n",
    "\n",
    "# Based on the Learning rate, the network is optimized \n",
    "optimizer = tf.train.AdamOptimizer(learning_rate = rate)\n",
    "\n",
    "# Minimize the loss\n",
    "training_operation = optimizer.minimize(loss_operation)\n",
    "\n",
    "# The output vector is compared to the actual one-hot encode of the image \n",
    "correct_prediction = tf.equal(tf.argmax(logits, 1), tf.argmax(one_hot_y, 1))\n",
    "\n",
    "# The top 5 classes of an image are predicted \n",
    "a=tf.nn.softmax(logits,dim=-1,name=None)\n",
    "[data,b]=tf.nn.top_k(a,k=5,sorted=True,name=None)\n",
    "accuracy_operation = tf.reduce_mean(tf.cast(correct_prediction, tf.float32))\n",
    "saver = tf.train.Saver()\n",
    "\n",
    "def evaluate(X_data, y_data):\n",
    "    num_examples = len(X_data)\n",
    "    total_accuracy = 0\n",
    "    sess = tf.get_default_session()\n",
    "    for offset in range(0, num_examples, BATCH_SIZE):\n",
    "        batch_x, batch_y = X_data[offset:offset+BATCH_SIZE], y_data[offset:offset+BATCH_SIZE]\n",
    "        accuracy = sess.run(accuracy_operation, feed_dict={x: batch_x, y: batch_y})\n",
    "        total_accuracy += (accuracy * len(batch_x))\n",
    "    return total_accuracy / num_examples\n",
    "\n"
   ]
  },
  {
   "cell_type": "markdown",
   "metadata": {},
   "source": [
    "### Total number of trainable parameters in the Network"
   ]
  },
  {
   "cell_type": "code",
   "execution_count": 14,
   "metadata": {},
   "outputs": [
    {
     "name": "stdout",
     "output_type": "stream",
     "text": [
      "679757\n"
     ]
    }
   ],
   "source": [
    "total_parameters = 0\n",
    "for variable in tf.trainable_variables():\n",
    "    # shape is an array of tf.Dimension\n",
    "    shape = variable.get_shape()\n",
    "    #print(shape)\n",
    "    #print(len(shape))\n",
    "    variable_parameters = 1\n",
    "    for dim in shape:\n",
    "        #print(dim)\n",
    "        variable_parameters *= dim.value\n",
    "    #print(variable_parameters)\n",
    "    \n",
    "    total_parameters += variable_parameters\n",
    "print(total_parameters)"
   ]
  },
  {
   "cell_type": "markdown",
   "metadata": {},
   "source": [
    "### Define the number of EPOCHS and BATCH_SIZE"
   ]
  },
  {
   "cell_type": "code",
   "execution_count": 15,
   "metadata": {},
   "outputs": [],
   "source": [
    "import tensorflow as tf\n",
    "\n",
    "EPOCHS = 43\n",
    "BATCH_SIZE = 100"
   ]
  },
  {
   "cell_type": "markdown",
   "metadata": {},
   "source": [
    "### Training the Model"
   ]
  },
  {
   "cell_type": "code",
   "execution_count": 16,
   "metadata": {},
   "outputs": [
    {
     "name": "stdout",
     "output_type": "stream",
     "text": [
      "Training...\n",
      "\n",
      "EPOCH 1 ...\n",
      "Validation Accuracy = 53.673\n",
      "\n",
      "EPOCH 2 ...\n",
      "Validation Accuracy = 78.186\n",
      "\n",
      "EPOCH 3 ...\n",
      "Validation Accuracy = 86.508\n",
      "\n",
      "EPOCH 4 ...\n",
      "Validation Accuracy = 90.839\n",
      "\n",
      "EPOCH 5 ...\n",
      "Validation Accuracy = 92.676\n",
      "\n",
      "EPOCH 6 ...\n",
      "Validation Accuracy = 93.855\n",
      "\n",
      "EPOCH 7 ...\n",
      "Validation Accuracy = 93.107\n",
      "\n",
      "EPOCH 8 ...\n",
      "Validation Accuracy = 90.748\n",
      "\n",
      "EPOCH 9 ...\n",
      "Validation Accuracy = 93.583\n",
      "\n",
      "EPOCH 10 ...\n",
      "Validation Accuracy = 94.649\n",
      "\n",
      "EPOCH 11 ...\n",
      "Validation Accuracy = 94.195\n",
      "\n",
      "EPOCH 12 ...\n",
      "Validation Accuracy = 94.853\n",
      "\n",
      "EPOCH 13 ...\n",
      "Validation Accuracy = 94.649\n",
      "\n",
      "EPOCH 14 ...\n",
      "Validation Accuracy = 94.376\n",
      "\n",
      "EPOCH 15 ...\n",
      "Validation Accuracy = 94.739\n",
      "\n",
      "EPOCH 16 ...\n",
      "Validation Accuracy = 93.220\n",
      "\n",
      "EPOCH 17 ...\n",
      "Validation Accuracy = 92.562\n",
      "\n",
      "EPOCH 18 ...\n",
      "Validation Accuracy = 94.603\n",
      "\n",
      "EPOCH 19 ...\n",
      "Validation Accuracy = 94.512\n",
      "\n",
      "EPOCH 20 ...\n",
      "Validation Accuracy = 94.308\n",
      "\n",
      "EPOCH 21 ...\n",
      "Validation Accuracy = 94.422\n",
      "\n",
      "EPOCH 22 ...\n",
      "Validation Accuracy = 94.467\n",
      "\n",
      "EPOCH 23 ...\n",
      "Validation Accuracy = 94.490\n",
      "\n",
      "EPOCH 24 ...\n",
      "Validation Accuracy = 94.535\n",
      "\n",
      "EPOCH 25 ...\n",
      "Validation Accuracy = 94.512\n",
      "\n",
      "EPOCH 26 ...\n",
      "Validation Accuracy = 94.603\n",
      "\n",
      "EPOCH 27 ...\n",
      "Validation Accuracy = 94.580\n",
      "\n",
      "EPOCH 28 ...\n",
      "Validation Accuracy = 94.626\n",
      "\n",
      "EPOCH 29 ...\n",
      "Validation Accuracy = 94.717\n",
      "\n",
      "EPOCH 30 ...\n",
      "Validation Accuracy = 94.626\n",
      "\n",
      "EPOCH 31 ...\n",
      "Validation Accuracy = 94.762\n",
      "\n",
      "EPOCH 32 ...\n",
      "Validation Accuracy = 94.762\n",
      "\n",
      "EPOCH 33 ...\n",
      "Validation Accuracy = 94.694\n",
      "\n",
      "EPOCH 34 ...\n",
      "Validation Accuracy = 94.717\n",
      "\n",
      "EPOCH 35 ...\n",
      "Validation Accuracy = 94.739\n",
      "\n",
      "EPOCH 36 ...\n",
      "Validation Accuracy = 94.694\n",
      "\n",
      "EPOCH 37 ...\n",
      "Validation Accuracy = 94.717\n",
      "\n",
      "EPOCH 38 ...\n",
      "Validation Accuracy = 94.694\n",
      "\n",
      "EPOCH 39 ...\n",
      "Validation Accuracy = 94.762\n",
      "\n",
      "EPOCH 40 ...\n",
      "Validation Accuracy = 94.694\n",
      "\n",
      "EPOCH 41 ...\n",
      "Validation Accuracy = 94.785\n",
      "\n",
      "EPOCH 42 ...\n",
      "Validation Accuracy = 94.785\n",
      "\n",
      "EPOCH 43 ...\n",
      "Validation Accuracy = 94.807\n",
      "\n",
      "Model saved\n"
     ]
    }
   ],
   "source": [
    "#Training the model\n",
    "from sklearn.utils import shuffle\n",
    "with tf.Session() as sess:\n",
    "    sess.run(tf.global_variables_initializer())\n",
    "    num_examples = len(X_train)\n",
    "    validation_accuracy_figure = []\n",
    "    print(\"Training...\")\n",
    "    print()\n",
    "    for i in range(EPOCHS):\n",
    "        x_train, y_train = shuffle(x_train, y_train)\n",
    "        for offset in range(0, num_examples, BATCH_SIZE):\n",
    "            end = offset + BATCH_SIZE\n",
    "            batch_x, batch_y = x_train[offset:end], y_train[offset:end]\n",
    "            sess.run(training_operation, feed_dict={x: batch_x, y: batch_y})\n",
    "             \n",
    "        validation_accuracy = evaluate(x_valid, y_valid)\n",
    "        validation_accuracy_figure.append(validation_accuracy)\n",
    "        print(\"EPOCH {} ...\".format(i+1))\n",
    "        print(\"Validation Accuracy = {:.3f}\".format(validation_accuracy*100)) \n",
    "              #\"loss = {:.3f}\".format(loss))\n",
    "        print()\n",
    "        \n",
    "    saver.save(sess, './lenet')\n",
    "    print(\"Model saved\")"
   ]
  },
  {
   "cell_type": "markdown",
   "metadata": {},
   "source": [
    "### Evaluate the Model on the Test set "
   ]
  },
  {
   "cell_type": "code",
   "execution_count": 17,
   "metadata": {},
   "outputs": [
    {
     "name": "stdout",
     "output_type": "stream",
     "text": [
      "INFO:tensorflow:Restoring parameters from ./lenet\n",
      "Test Accuracy = 93.650\n"
     ]
    }
   ],
   "source": [
    "with tf.Session() as sess:\n",
    "    #saver.restore(sess, tf.train.latest_checkpoint('.'))\n",
    "    saver.restore(sess, './lenet')\n",
    "    test_accuracy = evaluate(X_test, y_test)\n",
    "    print(\"Test Accuracy = {:.3f}\".format(test_accuracy*100))"
   ]
  },
  {
   "cell_type": "markdown",
   "metadata": {},
   "source": [
    "---\n",
    "\n",
    "## Step 3: Test a Model on New Images\n",
    "\n",
    "To give yourself more insight into how your model is working, download at least five pictures of German traffic signs from the web and use your model to predict the traffic sign type.\n",
    "\n",
    "You may find `signnames.csv` useful as it contains mappings from the class id (integer) to the actual sign name."
   ]
  },
  {
   "cell_type": "markdown",
   "metadata": {},
   "source": [
    "### Validation Accuracy Grpah and Load/Output new Images"
   ]
  },
  {
   "cell_type": "code",
   "execution_count": 26,
   "metadata": {},
   "outputs": [
    {
     "data": {
      "image/png": "[encoded data removed]",
      "text/plain": [
       "<matplotlib.figure.Figure at 0x265d3578a20>"
      ]
     },
     "metadata": {},
     "output_type": "display_data"
    },
    {
     "name": "stdout",
     "output_type": "stream",
     "text": [
      "(5, 32, 32, 3)\n",
      "(5, 32, 32, 3)\n",
      "(5,)\n",
      "144.08971354166667\n",
      "82.6775890369964\n"
     ]
    },
    {
     "data": {
      "image/png": "[encoded data removed]",
      "text/plain": [
       "<matplotlib.figure.Figure at 0x265d361e588>"
      ]
     },
     "metadata": {},
     "output_type": "display_data"
    },
    {
     "data": {
      "image/png": "[encoded data removed]",
      "text/plain": [
       "<matplotlib.figure.Figure at 0x265d6c13630>"
      ]
     },
     "metadata": {},
     "output_type": "display_data"
    },
    {
     "data": {
      "image/png": "[encoded data removed]",
      "text/plain": [
       "<matplotlib.figure.Figure at 0x265dad369e8>"
      ]
     },
     "metadata": {},
     "output_type": "display_data"
    },
    {
     "data": {
      "image/png": "[encoded data removed]",
      "text/plain": [
       "<matplotlib.figure.Figure at 0x265e6249e10>"
      ]
     },
     "metadata": {},
     "output_type": "display_data"
    },
    {
     "data": {
      "image/png": "[encoded data removed]",
      "text/plain": [
       "<matplotlib.figure.Figure at 0x265e62a1320>"
      ]
     },
     "metadata": {},
     "output_type": "display_data"
    }
   ],
   "source": [
    "### Load the images and plot them here.\n",
    "### Feel free to use as many code cells as needed.\n",
    "\n",
    "# Validation Accuracy graph \n",
    "plt.plot(validation_accuracy_figure)\n",
    "plt.title(\"Validation Accuracy\")\n",
    "plt.show()\n",
    "\n",
    "import os\n",
    "import cv2\n",
    "from skimage import data\n",
    "from skimage.transform import resize\n",
    "from PIL import Image \n",
    "import matplotlib.image as mpimg\n",
    "import glob\n",
    "image_list = [cv2.imread(file) for file in glob.glob(\"D:/Documents/Personal Data/Udacity/Projects - SDC Engineer/CarND-Traffic-Sign-Classifier-Project-master/custom3/*.png\")]\n",
    "image_list = np.array(image_list)\n",
    "x_custom = []\n",
    "print(image_list.shape)\n",
    "for image in image_list: \n",
    "    #image = resize(image, (32,32))\n",
    "    x_custom.append(image)\n",
    "x_custom = np.array(x_custom)\n",
    "#print(x_custom.shape)\n",
    "for i in range(len(x_custom)):\n",
    "    x_custom[i] = cv2.cvtColor(x_custom[i], cv2.COLOR_BGR2RGB)\n",
    "    plt.figure()\n",
    "    plt.imshow(x_custom[i,:,:,:])\n",
    "y_custom = [11, 1, 12, 38, 14]\n",
    "y_custom = np.array(y_custom)\n",
    "\n",
    "print(x_custom.shape)\n",
    "print(y_custom.shape)\n",
    "\n",
    "print(np.mean(x_custom))\n",
    "print(np.mean(X_train))"
   ]
  },
  {
   "cell_type": "markdown",
   "metadata": {},
   "source": [
    "### PreProcess the new images dataset"
   ]
  },
  {
   "cell_type": "code",
   "execution_count": 27,
   "metadata": {},
   "outputs": [
    {
     "name": "stdout",
     "output_type": "stream",
     "text": [
      "0.12570088704427082\n"
     ]
    }
   ],
   "source": [
    "### Run the predictions here and use the model to output the prediction for each image.\n",
    "### Make sure to pre-process the images with the same pre-processing pipeline used earlier.\n",
    "### Feel free to use as many code cells as needed.\n",
    "\n",
    "X_rgb_custom = x_custom\n",
    "\n",
    "X_custom_gry = np.sum(x_custom/3, axis = 3, keepdims = True)\n",
    "\n",
    "#print(X_custom_gry.shape)\n",
    "\n",
    "x_custom = X_custom_gry \n",
    "\n",
    "x_custom = np.array(x_custom)\n",
    "\n",
    "x_custom = (x_custom - 128.0)/128.0 \n",
    "\n",
    "#y_custom = [4, 9, 16, 18, 24]\n",
    "\n",
    "#x_custom, y_custom = shuffle(x_custom_norm, y_custom)\n",
    "print(np.mean(x_custom))\n",
    "#print(np.mean(g))\n",
    "#plt.figure()\n",
    "#plt.imshow(x_custom[0,:,:,0])\n",
    "#plt.figure()\n",
    "#plt.imshow(g[0,:,:,0])"
   ]
  },
  {
   "cell_type": "markdown",
   "metadata": {},
   "source": [
    "### Analyze Performance for new image dataset"
   ]
  },
  {
   "cell_type": "code",
   "execution_count": 28,
   "metadata": {},
   "outputs": [
    {
     "name": "stdout",
     "output_type": "stream",
     "text": [
      "INFO:tensorflow:Restoring parameters from ./lenet\n",
      "Custom Download Accuracy = 100.000\n"
     ]
    }
   ],
   "source": [
    "with tf.Session() as sess:\n",
    "    #saver.restore(sess, tf.train.latest_checkpoint('.'))\n",
    "    saver.restore(sess, './lenet')\n",
    "    test = evaluate(x_custom, y_custom)\n",
    "    print(\"Custom Download Accuracy = {:.3f}\".format(test*100))"
   ]
  },
  {
   "cell_type": "markdown",
   "metadata": {},
   "source": [
    "### Output Top 5 Softmax Probabilities For Each Image Found on the Web"
   ]
  },
  {
   "cell_type": "markdown",
   "metadata": {},
   "source": [
    "For each of the new images, print out the model's softmax probabilities to show the **certainty** of the model's predictions (limit the output to the top 5 probabilities for each image). [`tf.nn.top_k`](https://www.tensorflow.org/versions/r0.12/api_docs/python/nn.html#top_k) could prove helpful here. \n",
    "\n",
    "The example below demonstrates how tf.nn.top_k can be used to find the top k predictions for each image.\n",
    "\n",
    "`tf.nn.top_k` will return the values and indices (class ids) of the top k predictions. So if k=3, for each sign, it'll return the 3 largest probabilities (out of a possible 43) and the correspoding class ids.\n",
    "\n",
    "Take this numpy array as an example. The values in the array represent predictions. The array contains softmax probabilities for five candidate images with six possible classes. `tf.nn.top_k` is used to choose the three classes with the highest probability:\n",
    "\n",
    "```\n",
    "# (5, 6) array\n",
    "a = np.array([[ 0.24879643,  0.07032244,  0.12641572,  0.34763842,  0.07893497,\n",
    "         0.12789202],\n",
    "       [ 0.28086119,  0.27569815,  0.08594638,  0.0178669 ,  0.18063401,\n",
    "         0.15899337],\n",
    "       [ 0.26076848,  0.23664738,  0.08020603,  0.07001922,  0.1134371 ,\n",
    "         0.23892179],\n",
    "       [ 0.11943333,  0.29198961,  0.02605103,  0.26234032,  0.1351348 ,\n",
    "         0.16505091],\n",
    "       [ 0.09561176,  0.34396535,  0.0643941 ,  0.16240774,  0.24206137,\n",
    "         0.09155967]])\n",
    "```\n",
    "\n",
    "Running it through `sess.run(tf.nn.top_k(tf.constant(a), k=3))` produces:\n",
    "\n",
    "```\n",
    "TopKV2(values=array([[ 0.34763842,  0.24879643,  0.12789202],\n",
    "       [ 0.28086119,  0.27569815,  0.18063401],\n",
    "       [ 0.26076848,  0.23892179,  0.23664738],\n",
    "       [ 0.29198961,  0.26234032,  0.16505091],\n",
    "       [ 0.34396535,  0.24206137,  0.16240774]]), indices=array([[3, 0, 5],\n",
    "       [0, 1, 4],\n",
    "       [0, 5, 1],\n",
    "       [1, 3, 5],\n",
    "       [1, 4, 3]], dtype=int32))\n",
    "```\n",
    "\n",
    "Looking just at the first row we get `[ 0.34763842,  0.24879643,  0.12789202]`, you can confirm these are the 3 largest probabilities in `a`. You'll also notice `[3, 0, 5]` are the corresponding indices."
   ]
  },
  {
   "cell_type": "code",
   "execution_count": 29,
   "metadata": {},
   "outputs": [
    {
     "name": "stdout",
     "output_type": "stream",
     "text": [
      "INFO:tensorflow:Restoring parameters from ./lenet\n",
      "TopKV2(values=array([[9.9997938e-01, 8.2416273e-06, 5.5295532e-06, 2.6164937e-06,\n",
      "        1.5365415e-06],\n",
      "       [9.9994981e-01, 3.4962490e-05, 4.3056934e-06, 4.0108221e-06,\n",
      "        2.5875302e-06],\n",
      "       [9.9999130e-01, 2.0968421e-06, 1.5743190e-06, 1.5159814e-06,\n",
      "        6.5619309e-07],\n",
      "       [9.9999189e-01, 2.1924220e-06, 1.5932193e-06, 1.0271981e-06,\n",
      "        6.8839609e-07],\n",
      "       [9.9993610e-01, 1.4631989e-05, 1.1348272e-05, 1.1177311e-05,\n",
      "        7.7001778e-06]], dtype=float32), indices=array([[11, 30, 27, 41,  1],\n",
      "       [ 1,  2, 12, 11,  0],\n",
      "       [12,  1, 32, 40,  9],\n",
      "       [38,  7, 32, 36, 20],\n",
      "       [14, 33, 29, 31,  3]]))\n"
     ]
    }
   ],
   "source": [
    "### Print out the top five softmax probabilities for the predictions on the German traffic sign images found on the web. \n",
    "### Feel free to use as many code cells as needed.\n",
    "softmax_logits = tf.nn.softmax(logits)\n",
    "top_k = tf.nn.top_k(softmax_logits, k=5)\n",
    "\n",
    "with tf.Session() as sess:\n",
    "    sess.run(tf.global_variables_initializer())\n",
    "    saver = tf.train.import_meta_graph('./lenet.meta')\n",
    "    saver.restore(sess, \"./lenet\")\n",
    "    my_softmax_logits = sess.run(softmax_logits, feed_dict={x: x_custom})\n",
    "    my_top_k = sess.run(top_k, feed_dict={x: x_custom})\n",
    "print(my_top_k)"
   ]
  },
  {
   "cell_type": "markdown",
   "metadata": {},
   "source": [
    "### Project Writeup\n",
    "\n",
    "Once you have completed the code implementation, document your results in a project writeup using this [template](https://github.com/udacity/CarND-Traffic-Sign-Classifier-Project/blob/master/writeup_template.md) as a guide. The writeup can be in a markdown or pdf file. "
   ]
  },
  {
   "cell_type": "markdown",
   "metadata": {},
   "source": [
    "> **Note**: Once you have completed all of the code implementations and successfully answered each question above, you may finalize your work by exporting the iPython Notebook as an HTML document. You can do this by using the menu above and navigating to  \\n\",\n",
    "    \"**File -> Download as -> HTML (.html)**. Include the finished document along with this notebook as your submission."
   ]
  },
  {
   "cell_type": "markdown",
   "metadata": {},
   "source": [
    "---\n",
    "\n",
    "## Step 4 (Optional): Visualize the Neural Network's State with Test Images\n",
    "\n",
    " This Section is not required to complete but acts as an additional excersise for understaning the output of a neural network's weights. While neural networks can be a great learning device they are often referred to as a black box. We can understand what the weights of a neural network look like better by plotting their feature maps. After successfully training your neural network you can see what it's feature maps look like by plotting the output of the network's weight layers in response to a test stimuli image. From these plotted feature maps, it's possible to see what characteristics of an image the network finds interesting. For a sign, maybe the inner network feature maps react with high activation to the sign's boundary outline or to the contrast in the sign's painted symbol.\n",
    "\n",
    " Provided for you below is the function code that allows you to get the visualization output of any tensorflow weight layer you want. The inputs to the function should be a stimuli image, one used during training or a new one you provided, and then the tensorflow variable name that represents the layer's state during the training process, for instance if you wanted to see what the [LeNet lab's](https://classroom.udacity.com/nanodegrees/nd013/parts/fbf77062-5703-404e-b60c-95b78b2f3f9e/modules/6df7ae49-c61c-4bb2-a23e-6527e69209ec/lessons/601ae704-1035-4287-8b11-e2c2716217ad/concepts/d4aca031-508f-4e0b-b493-e7b706120f81) feature maps looked like for it's second convolutional layer you could enter conv2 as the tf_activation variable.\n",
    "\n",
    "For an example of what feature map outputs look like, check out NVIDIA's results in their paper [End-to-End Deep Learning for Self-Driving Cars](https://devblogs.nvidia.com/parallelforall/deep-learning-self-driving-cars/) in the section Visualization of internal CNN State. NVIDIA was able to show that their network's inner weights had high activations to road boundary lines by comparing feature maps from an image with a clear path to one without. Try experimenting with a similar test to show that your trained network's weights are looking for interesting features, whether it's looking at differences in feature maps from images with or without a sign, or even what feature maps look like in a trained network vs a completely untrained one on the same sign image.\n",
    "\n",
    "<figure>\n",
    " <img src=\"visualize_cnn.png\" width=\"380\" alt=\"Combined Image\" />\n",
    " <figcaption>\n",
    " <p></p> \n",
    " <p style=\"text-align: center;\"> Your output should look something like this (above)</p> \n",
    " </figcaption>\n",
    "</figure>\n",
    " <p></p> \n"
   ]
  },
  {
   "cell_type": "code",
   "execution_count": 42,
   "metadata": {},
   "outputs": [
    {
     "name": "stdout",
     "output_type": "stream",
     "text": [
      "INFO:tensorflow:Restoring parameters from .\\lenet\n"
     ]
    },
    {
     "data": {
      "image/png": "[encoded data removed]",
      "text/plain": [
       "<matplotlib.figure.Figure at 0x266f9bbb128>"
      ]
     },
     "metadata": {},
     "output_type": "display_data"
    },
    {
     "data": {
      "image/png": "[encoded data removed]",
      "text/plain": [
       "<matplotlib.figure.Figure at 0x266fc9989e8>"
      ]
     },
     "metadata": {},
     "output_type": "display_data"
    },
    {
     "data": {
      "image/png": "[encoded data removed]",
      "text/plain": [
       "<matplotlib.figure.Figure at 0x266fce26ba8>"
      ]
     },
     "metadata": {},
     "output_type": "display_data"
    }
   ],
   "source": [
    "### Visualize your network's feature maps here.\n",
    "### Feel free to use as many code cells as needed.\n",
    "\n",
    "# image_input: the test image being fed into the network to produce the feature maps\n",
    "# tf_activation: should be a tf variable name used during your training procedure that represents the calculated state of a specific weight layer\n",
    "# activation_min/max: can be used to view the activation contrast in more detail, by default matplot sets min and max to the actual min and max values of the output\n",
    "# plt_num: used to plot out multiple different weight feature map sets on the same block, just extend the plt number for each new feature map entry\n",
    "\n",
    "def outputFeatureMap(image_input, tf_activation, activation_min=-1, activation_max=-1 ,plt_num=1):\n",
    "    # Here make sure to preprocess your image_input in a way your network expects\n",
    "    # with size, normalization, ect if needed\n",
    "    # image_input =\n",
    "    # Note: x should be the same name as your network's tensorflow data placeholder variable\n",
    "    # If you get an error tf_activation is not defined it may be having trouble accessing the variable from inside a function\n",
    "    activation = tf_activation.eval(session=sess,feed_dict={x : x_custom})\n",
    "    featuremaps = activation.shape[3]\n",
    "    plt.figure(plt_num, figsize=(15,15))\n",
    "    for featuremap in range(featuremaps):\n",
    "        plt.subplot(6,8, featuremap+1) # sets the number of feature maps to show on each row and column\n",
    "        plt.title('FeatureMap ' + str(featuremap)) # displays the feature map number\n",
    "        if activation_min != -1 & activation_max != -1:\n",
    "            plt.imshow(activation[0,:,:, featuremap], interpolation=\"nearest\", vmin =activation_min, vmax=activation_max, cmap=\"gray\")\n",
    "        elif activation_max != -1:\n",
    "            plt.imshow(activation[0,:,:, featuremap], interpolation=\"nearest\", vmax=activation_max, cmap=\"gray\")\n",
    "        elif activation_min !=-1:\n",
    "            plt.imshow(activation[0,:,:, featuremap], interpolation=\"nearest\", vmin=activation_min, cmap=\"gray\")\n",
    "        else:\n",
    "            plt.imshow(activation[0,:,:, featuremap], interpolation=\"nearest\", cmap=\"gray\")\n",
    "            \n",
    "with tf.Session() as sess: \n",
    "    saver.restore(sess, tf.train.latest_checkpoint('.'))\n",
    "    #plt.figure()\n",
    "    #conv1 = sess.graph.get_tensor_by_name('conv1')\n",
    "    #plt.figure()\n",
    "    conv1 = sess.graph.get_tensor_by_name('convolution1:0')\n",
    "    outputFeatureMap(x_custom, conv1 , activation_min=-1, activation_max=-1, plt_num=1)\n",
    "    \n",
    "    #plt.figure()\n",
    "    conv2 = sess.graph.get_tensor_by_name('convolution2:0')\n",
    "    outputFeatureMap(x_custom, conv2 , activation_min=-1, activation_max=-1, plt_num=2)\n",
    "    \n",
    "    #plt.figure()\n",
    "    conv3 = sess.graph.get_tensor_by_name('convolution3:0')\n",
    "    outputFeatureMap(x_custom, conv3 , activation_min=-1, activation_max=-1, plt_num=3)\n",
    "\n",
    "    #conv4 = sess.graph.get_tensor_by_name('convolution4:0')\n",
    "    #outputFeatureMap(x_custom, conv4 , activation_min=-1, activation_max=-1, plt_num=4)\n",
    "\n",
    "    "
   ]
  }
 ],
 "metadata": {
  "anaconda-cloud": {},
  "kernelspec": {
   "display_name": "Python 3",
   "language": "python",
   "name": "python3"
  },
  "language_info": {
   "codemirror_mode": {
    "name": "ipython",
    "version": 3
   },
   "file_extension": ".py",
   "mimetype": "text/x-python",
   "name": "python",
   "nbconvert_exporter": "python",
   "pygments_lexer": "ipython3",
   "version": "3.5.2"
  },
  "widgets": {
   "state": {},
   "version": "1.1.2"
  }
 },
 "nbformat": 4,
 "nbformat_minor": 1
}
